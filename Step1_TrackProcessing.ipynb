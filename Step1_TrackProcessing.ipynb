{
 "cells": [
  {
   "cell_type": "code",
   "execution_count": 1,
   "metadata": {},
   "outputs": [
    {
     "name": "stderr",
     "output_type": "stream",
     "text": [
      "e:\\Users\\marti\\miniconda3\\envs\\manuscript2021\\Lib\\site-packages\\tqdm\\auto.py:21: TqdmWarning: IProgress not found. Please update jupyter and ipywidgets. See https://ipywidgets.readthedocs.io/en/stable/user_install.html\n",
      "  from .autonotebook import tqdm as notebook_tqdm\n"
     ]
    }
   ],
   "source": [
    "import cv2\n",
    "import matplotlib.pyplot as plt\n",
    "import numpy as np\n",
    "import os\n",
    "import pandas as pd\n",
    "import pathlib\n",
    "import re\n",
    "from behavioral_analysis.pandas_tools.files import build_file_df\n",
    "from behavioral_analysis.utility.builtin_classes.iterables import zip_unequal\n",
    "from behavioral_analysis.utility.builtin_classes.objects import load_object\n",
    "from behavioral_analysis.visualization.cv2_funcs import perspective_transform_arena, fig2cv2\n",
    "from behavioral_analysis.visualization.matplotlib_funcs import create_canvas, get_function_added_artists\n",
    "from behavioral_analysis.visualization.plots import get_arena_polygon_from_position, plot_arena, load_arena_from_json\n",
    "from behavioral_analysis.visualization.video_funcs import write_video_to_file, get_video_shape\n",
    "from behavioral_analysis.visualization.video_overlays import KeyPointOverlay\n",
    "from joblib import Parallel, delayed\n",
    "from shapely import Point\n",
    "from shapely.ops import unary_union, nearest_points\n",
    "from tqdm.cli import tqdm"
   ]
  },
  {
   "cell_type": "code",
   "execution_count": 4,
   "metadata": {},
   "outputs": [],
   "source": [
    "root_dir = pathlib.Path(r\"D:\\Folder With Backup\\2019_paper\\data\")\n",
    "plot_dir = root_dir / \"plot_output\"\n",
    "data_out_dir = root_dir / \"data_output\"\n",
    "\n",
    "verification_videos_dir = plot_dir / \"verification\" / \"tracked_videos\"\n",
    "annotations_dir = root_dir / \"annotations\"\n",
    "tracking_dir = root_dir / \"tracking\"\n",
    "\n",
    "videos_dir = root_dir / \"videos_remuxed\""
   ]
  },
  {
   "cell_type": "code",
   "execution_count": 5,
   "metadata": {},
   "outputs": [],
   "source": [
    "def default_correction(raw_track_df, arena_dict, track_arena_transforms):\n",
    "    arena_bounds = unary_union(list(arena_dict.values())).bounds\n",
    "    x_bounds = arena_bounds[0], arena_bounds[2]\n",
    "    y_bounds = arena_bounds[1], arena_bounds[3]\n",
    "\n",
    "    video_selection_frame_indices = track_arena_transforms.index\n",
    "\n",
    "    full_transformed_track_df_list = []\n",
    "    for start_frame, end_frame in zip_unequal(video_selection_frame_indices, video_selection_frame_indices[1:], fill_value=None):\n",
    "        flattened_arena_transform = track_arena_transforms.loc[start_frame]\n",
    "        arena_transform = np.reshape(flattened_arena_transform, (3, 3))\n",
    "        inverse_transform = np.linalg.inv(arena_transform)\n",
    "\n",
    "        raw_track_df_slice = raw_track_df.loc[start_frame:end_frame, \"spine_cervical\"]\n",
    "        transformed_track_array = cv2.perspectiveTransform(raw_track_df_slice[[\"x\", \"y\"]].astype(float).values[np.newaxis], inverse_transform)[0]\n",
    "        partial_transformed_track_df = pd.DataFrame(data=transformed_track_array, index=raw_track_df_slice.index, columns=[\"x\", \"y\"])\n",
    "        partial_transformed_track_df[\"clipped_x\"] = np.clip(partial_transformed_track_df[\"x\"].values, *x_bounds)\n",
    "        partial_transformed_track_df[\"clipped_y\"] = np.clip(partial_transformed_track_df[\"y\"].values, *y_bounds)\n",
    "        full_transformed_track_df_list.append(partial_transformed_track_df)\n",
    "\n",
    "    transformed_track_df = pd.concat(full_transformed_track_df_list)\n",
    "    transformed_track_df[\"containing_polygon\"] = transformed_track_df.apply(lambda r: get_arena_polygon_from_position(arena_dict, (r[[\"x\", \"y\"]].values), outside_behavior=\"closest\"), axis=1)\n",
    "\n",
    "    return transformed_track_df\n",
    "\n",
    "\n",
    "def expanded_looming_correction(raw_track_df, arena_dict, track_arena_transforms, y_correction=20):\n",
    "    video_selection_frame_indices = track_arena_transforms.index\n",
    "\n",
    "    full_transformed_track_df_list = []\n",
    "    for start_frame, end_frame in zip_unequal(video_selection_frame_indices, video_selection_frame_indices[1:], fill_value=None):\n",
    "        flattened_arena_transform = track_arena_transforms.loc[start_frame]\n",
    "        arena_transform = np.reshape(flattened_arena_transform, (3, 3))\n",
    "        inverse_transform = np.linalg.inv(arena_transform)\n",
    "\n",
    "        raw_track_df_slice = raw_track_df.loc[start_frame:end_frame]\n",
    "\n",
    "        transformed_arena = perspective_transform_arena(arena_dict, arena_transform)\n",
    "        transformed_arena_union = unary_union(list(transformed_arena.values()))\n",
    "\n",
    "        corrected_track_df = pd.DataFrame([], index=raw_track_df_slice.index, columns=[\"x\", \"y\"])\n",
    "        corrected_track_df[\"x\"] = raw_track_df_slice.loc[:, (\"spine_cervical\", \"x\")]\n",
    "        corrected_track_df[\"y\"] = raw_track_df_slice.loc[:, pd.IndexSlice[:, \"y\"]].max(axis=1) + y_correction\n",
    "\n",
    "        clipped_track_df = pd.Series(nearest_points(transformed_arena_union, corrected_track_df.apply(lambda x: Point(x), axis=1).values)[0])  # get nearest points\n",
    "        clipped_track_df = clipped_track_df.apply(lambda p: pd.Series(np.array(p.xy).squeeze(), index=[\"clipped_x\", \"clipped_y\"]))  # unpack points to df\n",
    "\n",
    "        transformed_track_array = cv2.perspectiveTransform(corrected_track_df[[\"x\", \"y\"]].astype(float).values[np.newaxis], inverse_transform)[0]\n",
    "        partial_transformed_track_df = pd.DataFrame(data=transformed_track_array, index=corrected_track_df.index, columns=[\"x\", \"y\"])\n",
    "\n",
    "        transformed_clipped_array = cv2.perspectiveTransform(clipped_track_df[[\"clipped_x\", \"clipped_y\"]].astype(float).values[np.newaxis], inverse_transform)[0]\n",
    "        partial_transformed_clipped_df = pd.DataFrame(data=transformed_clipped_array, index=corrected_track_df.index, columns=[\"clipped_x\", \"clipped_y\"])\n",
    "\n",
    "        partial_transformed_track_df = pd.concat([partial_transformed_track_df, partial_transformed_clipped_df], axis=1)\n",
    "        full_transformed_track_df_list.append(partial_transformed_track_df)\n",
    "\n",
    "    transformed_track_df = pd.concat(full_transformed_track_df_list)\n",
    "    transformed_track_df[\"containing_polygon\"] = transformed_track_df.apply(lambda r: get_arena_polygon_from_position(arena_dict, (r[[\"x\", \"y\"]].values), outside_behavior=\"closest\"), axis=1)\n",
    "\n",
    "    return transformed_track_df\n",
    "\n",
    "\n",
    "def transform_raw_tracks(expanded_arena_transforms_path, arena_dict_path, raw_track_dir, processed_track_out_dir, correction_func=None):\n",
    "    correction_func = default_correction if correction_func is None else correction_func\n",
    "\n",
    "    expanded_arena_transforms = pd.read_csv(expanded_arena_transforms_path, index_col=[0, 1])\n",
    "    arena_dict = load_object(arena_dict_path)\n",
    "\n",
    "    raw_csv_files = [f for f in os.listdir(raw_track_dir) if f.endswith(\".csv\")]\n",
    "    os.makedirs(processed_track_out_dir, exist_ok=True)\n",
    "\n",
    "    for f in tqdm(raw_csv_files):\n",
    "        raw_csv_path = os.path.join(raw_track_dir, f)\n",
    "        corresponding_video_name = f.replace(\".csv\", \".mp4\")\n",
    "\n",
    "        video_arena_transforms = expanded_arena_transforms.loc[corresponding_video_name]\n",
    "\n",
    "        # we expect only one trace in every file, and drop the scores\n",
    "        raw_track_df = pd.read_csv(raw_csv_path, index_col=[0, 1], header=[0, 1]).loc[\"track_0\"].drop(\"instance\", level=0, axis=1).drop(\"score\", level=1, axis=1)\n",
    "\n",
    "        transformed_track_df = correction_func(raw_track_df, arena_dict, video_arena_transforms)\n",
    "\n",
    "        out_path = os.path.join(processed_track_out_dir, f.replace(\".csv\", \"_processed.csv\"))\n",
    "        transformed_track_df.to_csv(out_path)\n",
    "\n",
    "\n",
    "def write_transform_verification_video(out_path, source_video_path, raw_track_df, arena_dict, track_arena_transforms, correction_func=None, show_progress=True, reader_kwargs=None, **correction_kwargs):\n",
    "    correction_func = default_correction if correction_func is None else correction_func\n",
    "    skeleton_df = pd.DataFrame([[\"nose\", \"spine_cervical\"], [\"spine_cervical\", \"tail_base\"]], index=pd.RangeIndex(2, name=\"edge_index\"), columns=pd.Index([\"node_0\", \"node_1\"], name=\"edge_feature\"))\n",
    "    video_shape = get_video_shape(source_video_path)\n",
    "    keypoint_canvas = create_canvas(*video_shape[:2][::-1], dpi=50)\n",
    "\n",
    "    try:\n",
    "        keypoint_overlay = KeyPointOverlay(initial_fig=keypoint_canvas, track_df=raw_track_df, skeleton_df=skeleton_df, keypoint_kwargs=dict(s=150*4))\n",
    "\n",
    "        raw_track_df = raw_track_df.loc[\"track_0\"]  # we assume there is only one track\n",
    "        corrected_track_df = correction_func(raw_track_df, arena_dict, track_arena_transforms, **correction_kwargs)\n",
    "        corrected_track_df = corrected_track_df.reindex(index=pd.RangeIndex(corrected_track_df.index.min(), corrected_track_df.index.max()+1, name=corrected_track_df.index.name))\n",
    "\n",
    "        video_selection_frame_indices = track_arena_transforms.index\n",
    "        full_transformed_track_df_list = []\n",
    "        transformed_arena_dict = {}\n",
    "        for start_frame, end_frame in zip_unequal(video_selection_frame_indices, video_selection_frame_indices[1:], fill_value=None):\n",
    "            flattened_arena_transform = track_arena_transforms.loc[start_frame]\n",
    "            arena_transform = np.reshape(flattened_arena_transform, (3, 3))\n",
    "\n",
    "            transformed_arena_dict[start_frame] = perspective_transform_arena(arena_dict, arena_transform)\n",
    "\n",
    "            corrected_track_df_slice = corrected_track_df.loc[start_frame:end_frame]\n",
    "\n",
    "            partial_transformed_track_df = pd.DataFrame([], index=corrected_track_df_slice.index, columns=[\"x\", \"y\", \"clipped_x\", \"clipped_y\"])\n",
    "            partial_transformed_track_df[[\"x\", \"y\"]] = cv2.perspectiveTransform(corrected_track_df_slice[[\"x\", \"y\"]].astype(float).values[np.newaxis], arena_transform)[0]\n",
    "            partial_transformed_track_df[[\"clipped_x\", \"clipped_y\"]] = cv2.perspectiveTransform(corrected_track_df_slice[[\"clipped_x\", \"clipped_y\"]].astype(float).values[np.newaxis], arena_transform)[0]\n",
    "            full_transformed_track_df_list.append(partial_transformed_track_df)\n",
    "\n",
    "        transformed_track_df = pd.concat(full_transformed_track_df_list)\n",
    "\n",
    "        def _plot_estimated_position(frame_index):\n",
    "            if frame_index not in transformed_track_df.index:\n",
    "                added_artists = []\n",
    "            else:\n",
    "                added_artists = keypoint_canvas.gca().plot(transformed_track_df.loc[frame_index, \"clipped_x\"], transformed_track_df.loc[frame_index, \"clipped_y\"], \n",
    "                                                           color=\"green\", marker=\"o\", ms=20)\n",
    "            canvas_array = fig2cv2(keypoint_canvas)\n",
    "            for added_artist in added_artists:\n",
    "                added_artist.remove()\n",
    "            return canvas_array\n",
    "        \n",
    "\n",
    "        def _plot_transformed_arena(frame_index):\n",
    "            transformed_arena = {}\n",
    "            for start_frame, range_transformed_arena in transformed_arena_dict.items():\n",
    "                if frame_index >= start_frame:\n",
    "                    transformed_arena = range_transformed_arena\n",
    "                else:\n",
    "                    break\n",
    "            \n",
    "            arena_artists = get_function_added_artists(plot_arena, transformed_arena, ax=keypoint_canvas.gca(), plot_labels=False)\n",
    "            canvas_array = fig2cv2(keypoint_canvas)\n",
    "\n",
    "            for new_artist in arena_artists:\n",
    "                new_artist.remove()\n",
    "            return canvas_array\n",
    "\n",
    "        write_video_to_file(out_path, source_video_path, rgba_overlay_functions=[_plot_transformed_arena, keypoint_overlay.get_frame_overlay, _plot_estimated_position], show_progress=show_progress, reader_kwargs=reader_kwargs)\n",
    "\n",
    "    finally:\n",
    "        plt.close(keypoint_canvas)"
   ]
  },
  {
   "cell_type": "markdown",
   "metadata": {},
   "source": [
    "# Verification"
   ]
  },
  {
   "cell_type": "markdown",
   "metadata": {},
   "source": [
    "## Looming Stimulus"
   ]
  },
  {
   "cell_type": "markdown",
   "metadata": {},
   "source": [
    "### Cohort 1"
   ]
  },
  {
   "cell_type": "code",
   "execution_count": 15,
   "metadata": {},
   "outputs": [],
   "source": [
    "local_annotations_dir = annotations_dir / \"looming_stimulus\" / \"cohort2\"\n",
    "arena_dict_path = local_annotations_dir / \"arena_dict.json\"\n",
    "expanded_arena_transforms_path = local_annotations_dir / \"expanded_arena_transforms.csv\"\n",
    "\n",
    "local_videos_dir = videos_dir / \"looming_stimulus\" / \"cohort2\"\n",
    "local_tracking_dir = tracking_dir / \"looming_stimulus\" / \"cohort2\"\n",
    "\n",
    "local_verification_videos_dir = verification_videos_dir / \"looming_stimulus\" / \"cohort2\"\n",
    "local_verification_videos_dir.mkdir(parents=True, exist_ok=True)"
   ]
  },
  {
   "cell_type": "code",
   "execution_count": 39,
   "metadata": {},
   "outputs": [],
   "source": [
    "rng = np.random.default_rng(12312415)\n",
    "n_videos = 32\n",
    "batch_size = 4\n",
    "\n",
    "video_regex = r\"(?P<date_string>\\d+)_mouse(?P<mouse_id>\\d+.\\d+)_loom(?P<loom_id>\\d+)_remuxed\\.mp4\"\n",
    "\n",
    "arena_dict = load_arena_from_json(arena_dict_path)\n",
    "\n",
    "expanded_arena_transforms = pd.read_csv(expanded_arena_transforms_path, index_col=[0, 1, 2])\n",
    "\n",
    "out_dir = os.path.join(root_dir, r\"verification\\tracking_videos\")\n",
    "os.makedirs(out_dir, exist_ok=True)\n",
    "\n",
    "video_file_df = build_file_df(str(local_videos_dir), video_regex)\n",
    "video_file_df = video_file_df.sample(n=n_videos, random_state=rng)\n",
    "video_names = video_file_df[\"file_path\"].apply(os.path.basename)\n",
    "\n",
    "def _single_transform_verification_video(video_name, show_progress=False):\n",
    "    out_path = local_verification_videos_dir / video_name.replace(\".mp4\", \"_Tracked.mp4\")\n",
    "    regex_dict = re.search(video_regex, video_name).groupdict()\n",
    "\n",
    "    if out_path.exists():\n",
    "        return\n",
    "\n",
    "    source_video_path = str(local_videos_dir / video_name)\n",
    "\n",
    "    raw_csv_path = str(local_tracking_dir / video_name.replace(\"_remuxed.mp4\", \".csv\"))\n",
    "    raw_track_df = pd.read_csv(raw_csv_path, index_col=[0, 1], header=[0, 1]).drop(\"instance\", level=0, axis=1).drop(\"score\", level=1, axis=1)\n",
    "    track_arena_transforms = expanded_arena_transforms.loc[(regex_dict[\"mouse_id\"], int(regex_dict[\"loom_id\"]))]\n",
    "\n",
    "    write_transform_verification_video(str(out_path), source_video_path, raw_track_df, arena_dict, track_arena_transforms, correction_func=expanded_looming_correction, show_progress=show_progress, y_correction=20)"
   ]
  },
  {
   "cell_type": "code",
   "execution_count": 33,
   "metadata": {},
   "outputs": [
    {
     "data": {
      "text/plain": [
       "'20241107_mouse3_4_loom9_remuxed.mp4'"
      ]
     },
     "execution_count": 33,
     "metadata": {},
     "output_type": "execute_result"
    }
   ],
   "source": [
    "video_names.iloc[1]"
   ]
  },
  {
   "cell_type": "code",
   "execution_count": 40,
   "metadata": {},
   "outputs": [
    {
     "name": "stderr",
     "output_type": "stream",
     "text": [
      "C:\\Users\\marti\\AppData\\Local\\Temp\\ipykernel_35420\\1310612516.py:29: PerformanceWarning: indexing past lexsort depth may impact performance.\n",
      "  track_arena_transforms = expanded_arena_transforms.loc[(regex_dict[\"mouse_id\"], int(regex_dict[\"loom_id\"]))]\n",
      "100%|██████████| 898/898 [02:46<00:00,  5.38it/s]\n"
     ]
    }
   ],
   "source": [
    "_single_transform_verification_video(video_names.iloc[1], show_progress=True)"
   ]
  },
  {
   "cell_type": "code",
   "execution_count": 7,
   "metadata": {},
   "outputs": [
    {
     "name": "stderr",
     "output_type": "stream",
     "text": [
      "100%|██████████| 32/32 [35:38<00:00, 66.84s/it]\n"
     ]
    }
   ],
   "source": [
    "with Parallel(n_jobs=batch_size) as parallel:\n",
    "    parallel(delayed(_single_transform_verification_video)(video_name) for video_name in tqdm(video_names))"
   ]
  },
  {
   "cell_type": "markdown",
   "metadata": {},
   "source": [
    "### Cohort 2"
   ]
  },
  {
   "cell_type": "code",
   "execution_count": 41,
   "metadata": {},
   "outputs": [],
   "source": [
    "local_annotations_dir = annotations_dir / \"looming_stimulus\" / \"cohort1\"\n",
    "arena_dict_path = local_annotations_dir / \"arena_dict.json\"\n",
    "expanded_arena_transforms_path = local_annotations_dir / \"expanded_arena_transforms.csv\"\n",
    "\n",
    "local_videos_dir = videos_dir / \"looming_stimulus\" / \"cohort1\"\n",
    "local_tracking_dir = tracking_dir / \"looming_stimulus\" / \"cohort1\"\n",
    "\n",
    "local_verification_videos_dir = verification_videos_dir / \"looming_stimulus\" / \"cohort1\"\n",
    "local_verification_videos_dir.mkdir(parents=True, exist_ok=True)"
   ]
  },
  {
   "cell_type": "code",
   "execution_count": 42,
   "metadata": {},
   "outputs": [],
   "source": [
    "rng = np.random.default_rng(12312415)\n",
    "n_videos = 32\n",
    "batch_size = 4\n",
    "\n",
    "video_regex = r\"(?P<date_string>\\d+)_mouse(?P<mouse_id>\\d+.\\d+)_loom(?P<loom_id>\\d+)_remuxed\\.mp4\"\n",
    "\n",
    "arena_dict = load_arena_from_json(arena_dict_path)\n",
    "\n",
    "expanded_arena_transforms = pd.read_csv(expanded_arena_transforms_path, index_col=[0, 1, 2])\n",
    "\n",
    "out_dir = os.path.join(root_dir, r\"verification\\tracking_videos\")\n",
    "os.makedirs(out_dir, exist_ok=True)\n",
    "\n",
    "video_file_df = build_file_df(str(local_videos_dir), video_regex)\n",
    "video_file_df = video_file_df.sample(n=n_videos, random_state=rng)\n",
    "video_names = video_file_df[\"file_path\"].apply(os.path.basename)\n",
    "\n",
    "def _single_transform_verification_video(video_name, show_progress=False):\n",
    "    out_path = local_verification_videos_dir / video_name.replace(\".mp4\", \"_Tracked.mp4\")\n",
    "    regex_dict = re.search(video_regex, video_name).groupdict()\n",
    "\n",
    "    if out_path.exists():\n",
    "        return\n",
    "\n",
    "    source_video_path = str(local_videos_dir / video_name)\n",
    "\n",
    "    raw_csv_path = str(local_tracking_dir / video_name.replace(\"_remuxed.mp4\", \".csv\"))\n",
    "    raw_track_df = pd.read_csv(raw_csv_path, index_col=[0, 1], header=[0, 1]).drop(\"instance\", level=0, axis=1).drop(\"score\", level=1, axis=1)\n",
    "    track_arena_transforms = expanded_arena_transforms.loc[(regex_dict[\"mouse_id\"], int(regex_dict[\"loom_id\"]))]\n",
    "\n",
    "    write_transform_verification_video(str(out_path), source_video_path, raw_track_df, arena_dict, track_arena_transforms, correction_func=expanded_looming_correction, show_progress=show_progress, y_correction=20)"
   ]
  },
  {
   "cell_type": "code",
   "execution_count": 43,
   "metadata": {},
   "outputs": [
    {
     "data": {
      "text/plain": [
       "'20210516_mouse1_4_loom0_remuxed.mp4'"
      ]
     },
     "execution_count": 43,
     "metadata": {},
     "output_type": "execute_result"
    }
   ],
   "source": [
    "video_names.iloc[0]"
   ]
  },
  {
   "cell_type": "code",
   "execution_count": 44,
   "metadata": {},
   "outputs": [
    {
     "name": "stderr",
     "output_type": "stream",
     "text": [
      "100%|██████████| 906/906 [02:47<00:00,  5.42it/s]\n"
     ]
    }
   ],
   "source": [
    "_single_transform_verification_video(video_names.iloc[0], show_progress=True)"
   ]
  },
  {
   "cell_type": "code",
   "execution_count": 31,
   "metadata": {},
   "outputs": [
    {
     "name": "stderr",
     "output_type": "stream",
     "text": [
      "\n",
      "\u001b[A\n",
      "\u001b[A\n",
      "\u001b[A\n",
      "100%|██████████| 32/32 [00:03<00:00,  9.92it/s]\n"
     ]
    }
   ],
   "source": [
    "with Parallel(n_jobs=batch_size) as parallel:\n",
    "    parallel(delayed(_single_transform_verification_video)(video_name) for video_name in tqdm(video_names))"
   ]
  },
  {
   "cell_type": "markdown",
   "metadata": {},
   "source": [
    "## Rat Odor"
   ]
  },
  {
   "cell_type": "markdown",
   "metadata": {},
   "source": [
    "### Cohort 1"
   ]
  },
  {
   "cell_type": "code",
   "execution_count": 45,
   "metadata": {},
   "outputs": [],
   "source": [
    "local_annotations_dir = annotations_dir / \"rat_odor\" / \"cohort1\"\n",
    "arena_dict_path = local_annotations_dir / \"arena_dict.json\"\n",
    "expanded_arena_transforms_path = local_annotations_dir / \"expanded_arena_transforms.csv\"\n",
    "\n",
    "local_videos_dir = videos_dir / \"rat_odor\" / \"cohort1\"\n",
    "local_tracking_dir = tracking_dir / \"rat_odor\" / \"cohort1\"\n",
    "\n",
    "local_verification_videos_dir = verification_videos_dir / \"rat_odor\" / \"cohort1\"\n",
    "local_verification_videos_dir.mkdir(parents=True, exist_ok=True)"
   ]
  },
  {
   "cell_type": "code",
   "execution_count": 53,
   "metadata": {},
   "outputs": [],
   "source": [
    "rng = np.random.default_rng(12312415)\n",
    "n_videos = 4\n",
    "batch_size = 4\n",
    "start_frame = 25 * 120\n",
    "end_frame = start_frame + 25 * 5\n",
    "\n",
    "video_regex = r\"(?P<date_string>\\d+)_mouse(?P<mouse_id>\\d+.\\d+)_(?P<phase>\\w+)_remuxed\\.mp4\"\n",
    "\n",
    "arena_dict = load_arena_from_json(arena_dict_path)\n",
    "\n",
    "expanded_arena_transforms = pd.read_csv(expanded_arena_transforms_path, index_col=[0, 1, 2])\n",
    "\n",
    "out_dir = os.path.join(root_dir, r\"verification\\tracking_videos\")\n",
    "os.makedirs(out_dir, exist_ok=True)\n",
    "\n",
    "video_file_df = build_file_df(str(local_videos_dir), video_regex)\n",
    "video_file_df = video_file_df.sample(n=n_videos, random_state=rng)\n",
    "video_names = video_file_df[\"file_path\"].apply(os.path.basename)\n",
    "\n",
    "def _single_transform_verification_video(video_name, show_progress=False):\n",
    "    out_path = local_verification_videos_dir / video_name.replace(\".mp4\", \"_Tracked.mp4\")\n",
    "    regex_dict = re.search(video_regex, video_name).groupdict()\n",
    "\n",
    "    if out_path.exists():\n",
    "        return\n",
    "\n",
    "    source_video_path = str(local_videos_dir / video_name)\n",
    "\n",
    "    raw_csv_path = str(local_tracking_dir / video_name.replace(\"_remuxed.mp4\", \".csv\"))\n",
    "    raw_track_df = pd.read_csv(raw_csv_path, index_col=[0, 1], header=[0, 1]).drop(\"instance\", level=0, axis=1).drop(\"score\", level=1, axis=1)\n",
    "    track_arena_transforms = expanded_arena_transforms.loc[(regex_dict[\"mouse_id\"], regex_dict[\"phase\"])]\n",
    "\n",
    "    write_transform_verification_video(str(out_path), source_video_path, raw_track_df, arena_dict, track_arena_transforms, correction_func=default_correction, reader_kwargs=dict(start_frame=start_frame, end_frame=end_frame), show_progress=show_progress)"
   ]
  },
  {
   "cell_type": "code",
   "execution_count": 49,
   "metadata": {},
   "outputs": [
    {
     "data": {
      "text/plain": [
       "'20210528_mouse1_1_WithOdor_remuxed.mp4'"
      ]
     },
     "execution_count": 49,
     "metadata": {},
     "output_type": "execute_result"
    }
   ],
   "source": [
    "video_names.iloc[2]"
   ]
  },
  {
   "cell_type": "code",
   "execution_count": 54,
   "metadata": {},
   "outputs": [
    {
     "name": "stderr",
     "output_type": "stream",
     "text": [
      "C:\\Users\\marti\\AppData\\Local\\Temp\\ipykernel_35420\\2811115036.py:31: PerformanceWarning: indexing past lexsort depth may impact performance.\n",
      "  track_arena_transforms = expanded_arena_transforms.loc[(regex_dict[\"mouse_id\"], regex_dict[\"phase\"])]\n",
      "100%|██████████| 124/124 [00:25<00:00,  4.85it/s]\n"
     ]
    }
   ],
   "source": [
    "_single_transform_verification_video(video_names.iloc[2], show_progress=True)"
   ]
  },
  {
   "cell_type": "code",
   "execution_count": 74,
   "metadata": {},
   "outputs": [
    {
     "name": "stderr",
     "output_type": "stream",
     "text": [
      "\n",
      "\n",
      "\n",
      "\n",
      "\n",
      "\n",
      "\n",
      "\n",
      "100%|██████████| 4/4 [00:00<00:00, 190.47it/s]\n"
     ]
    }
   ],
   "source": [
    "with Parallel(n_jobs=batch_size) as parallel:\n",
    "    parallel(delayed(_single_transform_verification_video)(video_name) for video_name in tqdm(video_names))"
   ]
  },
  {
   "cell_type": "markdown",
   "metadata": {},
   "source": [
    "### Cohort 2"
   ]
  },
  {
   "cell_type": "code",
   "execution_count": 55,
   "metadata": {},
   "outputs": [],
   "source": [
    "local_annotations_dir = annotations_dir / \"rat_odor\" / \"cohort2\"\n",
    "arena_dict_path = local_annotations_dir / \"arena_dict.json\"\n",
    "expanded_arena_transforms_path = local_annotations_dir / \"expanded_arena_transforms.csv\"\n",
    "\n",
    "local_videos_dir = videos_dir / \"rat_odor\" / \"cohort2\"\n",
    "local_tracking_dir = tracking_dir / \"rat_odor\" / \"cohort2\"\n",
    "\n",
    "local_verification_videos_dir = verification_videos_dir / \"rat_odor\" / \"cohort2\"\n",
    "local_verification_videos_dir.mkdir(parents=True, exist_ok=True)"
   ]
  },
  {
   "cell_type": "code",
   "execution_count": 56,
   "metadata": {},
   "outputs": [],
   "source": [
    "rng = np.random.default_rng(12312415)\n",
    "n_videos = 4\n",
    "batch_size = 4\n",
    "start_frame = 25 * 120\n",
    "end_frame = start_frame + 25 * 5\n",
    "\n",
    "video_regex = r\"(?P<date_string>\\d+)_mouse(?P<mouse_id>\\d+.\\d+)_(?P<phase>\\w+)_remuxed\\.mp4\"\n",
    "\n",
    "arena_dict = load_arena_from_json(arena_dict_path)\n",
    "\n",
    "expanded_arena_transforms = pd.read_csv(expanded_arena_transforms_path, index_col=[0, 1, 2])\n",
    "\n",
    "out_dir = os.path.join(root_dir, r\"verification\\tracking_videos\")\n",
    "os.makedirs(out_dir, exist_ok=True)\n",
    "\n",
    "video_file_df = build_file_df(str(local_videos_dir), video_regex)\n",
    "video_file_df = video_file_df.sample(n=n_videos, random_state=rng)\n",
    "video_names = video_file_df[\"file_path\"].apply(os.path.basename)\n",
    "\n",
    "def _single_transform_verification_video(video_name, show_progress=False):\n",
    "    out_path = local_verification_videos_dir / video_name.replace(\".mp4\", \"_Tracked.mp4\")\n",
    "    regex_dict = re.search(video_regex, video_name).groupdict()\n",
    "\n",
    "    if out_path.exists():\n",
    "        return\n",
    "\n",
    "    source_video_path = str(local_videos_dir / video_name)\n",
    "\n",
    "    raw_csv_path = str(local_tracking_dir / video_name.replace(\"_remuxed.mp4\", \".csv\"))\n",
    "    raw_track_df = pd.read_csv(raw_csv_path, index_col=[0, 1], header=[0, 1]).drop(\"instance\", level=0, axis=1).drop(\"score\", level=1, axis=1)\n",
    "    track_arena_transforms = expanded_arena_transforms.loc[(regex_dict[\"mouse_id\"], regex_dict[\"phase\"])]\n",
    "\n",
    "    write_transform_verification_video(str(out_path), source_video_path, raw_track_df, arena_dict, track_arena_transforms, correction_func=default_correction, reader_kwargs=dict(start_frame=start_frame, end_frame=end_frame), show_progress=show_progress)"
   ]
  },
  {
   "cell_type": "code",
   "execution_count": 57,
   "metadata": {},
   "outputs": [
    {
     "data": {
      "text/plain": [
       "'20241120_mouse3_5_WithOdor_remuxed.mp4'"
      ]
     },
     "execution_count": 57,
     "metadata": {},
     "output_type": "execute_result"
    }
   ],
   "source": [
    "video_names.iloc[0]"
   ]
  },
  {
   "cell_type": "code",
   "execution_count": 58,
   "metadata": {},
   "outputs": [
    {
     "name": "stderr",
     "output_type": "stream",
     "text": [
      "C:\\Users\\marti\\AppData\\Local\\Temp\\ipykernel_35420\\2811115036.py:31: PerformanceWarning: indexing past lexsort depth may impact performance.\n",
      "  track_arena_transforms = expanded_arena_transforms.loc[(regex_dict[\"mouse_id\"], regex_dict[\"phase\"])]\n",
      "100%|██████████| 124/124 [00:27<00:00,  4.44it/s]\n"
     ]
    }
   ],
   "source": [
    "_single_transform_verification_video(video_names.iloc[0], show_progress=True)"
   ]
  },
  {
   "cell_type": "code",
   "execution_count": 76,
   "metadata": {},
   "outputs": [
    {
     "name": "stderr",
     "output_type": "stream",
     "text": [
      "\n",
      "\n",
      "\n",
      "\n",
      "\n",
      "\n",
      "\n",
      "\n",
      "100%|██████████| 4/4 [00:00<?, ?it/s]\n"
     ]
    }
   ],
   "source": [
    "with Parallel(n_jobs=batch_size) as parallel:\n",
    "    parallel(delayed(_single_transform_verification_video)(video_name) for video_name in tqdm(video_names))"
   ]
  },
  {
   "cell_type": "markdown",
   "metadata": {},
   "source": [
    "## Rat Presence"
   ]
  },
  {
   "cell_type": "markdown",
   "metadata": {},
   "source": [
    "### Cohort 1"
   ]
  },
  {
   "cell_type": "code",
   "execution_count": 6,
   "metadata": {},
   "outputs": [],
   "source": [
    "local_annotations_dir = annotations_dir / \"rat_presence\" / \"cohort1\"\n",
    "arena_dict_path = local_annotations_dir / \"arena_dict.json\"\n",
    "expanded_arena_transforms_path = local_annotations_dir / \"expanded_arena_transforms.csv\"\n",
    "\n",
    "local_videos_dir = videos_dir / \"rat_presence\" / \"cohort1\"\n",
    "local_tracking_dir = tracking_dir / \"rat_presence\" / \"cohort1\"\n",
    "\n",
    "local_verification_videos_dir = verification_videos_dir / \"rat_presence\" / \"cohort1\"\n",
    "local_verification_videos_dir.mkdir(parents=True, exist_ok=True)"
   ]
  },
  {
   "cell_type": "code",
   "execution_count": 7,
   "metadata": {},
   "outputs": [],
   "source": [
    "rng = np.random.default_rng(12312415)\n",
    "n_videos = 4\n",
    "batch_size = 4\n",
    "start_frame = 25 * 120\n",
    "end_frame = start_frame + 25 * 5\n",
    "\n",
    "video_regex = r\"(?P<date_string>\\d+)_mouse(?P<mouse_id>\\d+.\\d+)_(?P<phase>\\w+)_remuxed\\.mp4\"\n",
    "\n",
    "arena_dict = load_arena_from_json(arena_dict_path)\n",
    "\n",
    "expanded_arena_transforms = pd.read_csv(expanded_arena_transforms_path, index_col=[0, 1, 2])\n",
    "\n",
    "out_dir = os.path.join(root_dir, r\"verification\\tracking_videos\")\n",
    "os.makedirs(out_dir, exist_ok=True)\n",
    "\n",
    "video_file_df = build_file_df(str(local_videos_dir), video_regex)\n",
    "video_file_df = video_file_df.sample(n=n_videos, random_state=rng)\n",
    "video_names = video_file_df[\"file_path\"].apply(os.path.basename)\n",
    "\n",
    "def _single_transform_verification_video(video_name, show_progress=False):\n",
    "    out_path = local_verification_videos_dir / video_name.replace(\".mp4\", \"_Tracked.mp4\")\n",
    "    regex_dict = re.search(video_regex, video_name).groupdict()\n",
    "\n",
    "    if out_path.exists():\n",
    "        return\n",
    "\n",
    "    source_video_path = str(local_videos_dir / video_name)\n",
    "\n",
    "    raw_csv_path = str(local_tracking_dir / video_name.replace(\"_remuxed.mp4\", \".csv\"))\n",
    "    raw_track_df = pd.read_csv(raw_csv_path, index_col=[0, 1], header=[0, 1]).drop(\"instance\", level=0, axis=1).drop(\"score\", level=1, axis=1)\n",
    "    track_arena_transforms = expanded_arena_transforms.loc[(regex_dict[\"mouse_id\"], regex_dict[\"phase\"])]\n",
    "\n",
    "    write_transform_verification_video(str(out_path), source_video_path, raw_track_df, arena_dict, track_arena_transforms, correction_func=default_correction, reader_kwargs=dict(start_frame=start_frame, end_frame=end_frame), show_progress=show_progress)"
   ]
  },
  {
   "cell_type": "code",
   "execution_count": 9,
   "metadata": {},
   "outputs": [
    {
     "data": {
      "text/plain": [
       "'20210601_mouse1_4_WithRat_remuxed.mp4'"
      ]
     },
     "execution_count": 9,
     "metadata": {},
     "output_type": "execute_result"
    }
   ],
   "source": [
    "video_names.iloc[0]"
   ]
  },
  {
   "cell_type": "code",
   "execution_count": 10,
   "metadata": {},
   "outputs": [
    {
     "name": "stderr",
     "output_type": "stream",
     "text": [
      "C:\\Users\\marti\\AppData\\Local\\Temp\\ipykernel_32104\\2811115036.py:31: PerformanceWarning: indexing past lexsort depth may impact performance.\n",
      "  track_arena_transforms = expanded_arena_transforms.loc[(regex_dict[\"mouse_id\"], regex_dict[\"phase\"])]\n",
      "100%|██████████| 124/124 [00:22<00:00,  5.56it/s]\n"
     ]
    }
   ],
   "source": [
    "_single_transform_verification_video(video_names.iloc[0], show_progress=True)"
   ]
  },
  {
   "cell_type": "code",
   "execution_count": 78,
   "metadata": {},
   "outputs": [
    {
     "name": "stderr",
     "output_type": "stream",
     "text": [
      "\n",
      "\n",
      "\n",
      "\n",
      "\n",
      "\n",
      "\n",
      "\n",
      "100%|██████████| 4/4 [00:00<00:00, 3997.43it/s]\n"
     ]
    }
   ],
   "source": [
    "with Parallel(n_jobs=batch_size) as parallel:\n",
    "    parallel(delayed(_single_transform_verification_video)(video_name) for video_name in tqdm(video_names))"
   ]
  },
  {
   "cell_type": "markdown",
   "metadata": {},
   "source": [
    "### Cohort 2"
   ]
  },
  {
   "cell_type": "code",
   "execution_count": 11,
   "metadata": {},
   "outputs": [],
   "source": [
    "local_annotations_dir = annotations_dir / \"rat_presence\" / \"cohort2\"\n",
    "arena_dict_path = local_annotations_dir / \"arena_dict.json\"\n",
    "expanded_arena_transforms_path = local_annotations_dir / \"expanded_arena_transforms.csv\"\n",
    "\n",
    "local_videos_dir = videos_dir / \"rat_presence\" / \"cohort2\"\n",
    "local_tracking_dir = tracking_dir / \"rat_presence\" / \"cohort2\"\n",
    "\n",
    "local_verification_videos_dir = verification_videos_dir / \"rat_presence\" / \"cohort2\"\n",
    "local_verification_videos_dir.mkdir(parents=True, exist_ok=True)"
   ]
  },
  {
   "cell_type": "code",
   "execution_count": 12,
   "metadata": {},
   "outputs": [],
   "source": [
    "rng = np.random.default_rng(12312415)\n",
    "n_videos = 4\n",
    "batch_size = 4\n",
    "start_frame = 25 * 120\n",
    "end_frame = start_frame + 25 * 5\n",
    "\n",
    "video_regex = r\"(?P<date_string>\\d+)_mouse(?P<mouse_id>\\d+.\\d+)_(?P<phase>\\w+)_remuxed\\.mp4\"\n",
    "\n",
    "arena_dict = load_arena_from_json(arena_dict_path)\n",
    "\n",
    "expanded_arena_transforms = pd.read_csv(expanded_arena_transforms_path, index_col=[0, 1, 2])\n",
    "\n",
    "out_dir = os.path.join(root_dir, r\"verification\\tracking_videos\")\n",
    "os.makedirs(out_dir, exist_ok=True)\n",
    "\n",
    "video_file_df = build_file_df(str(local_videos_dir), video_regex)\n",
    "video_file_df = video_file_df.sample(n=n_videos, random_state=rng)\n",
    "video_names = video_file_df[\"file_path\"].apply(os.path.basename)\n",
    "\n",
    "def _single_transform_verification_video(video_name, show_progress=False):\n",
    "    out_path = local_verification_videos_dir / video_name.replace(\".mp4\", \"_Tracked.mp4\")\n",
    "    regex_dict = re.search(video_regex, video_name).groupdict()\n",
    "\n",
    "    if out_path.exists():\n",
    "        return\n",
    "\n",
    "    source_video_path = str(local_videos_dir / video_name)\n",
    "\n",
    "    raw_csv_path = str(local_tracking_dir / video_name.replace(\"_remuxed.mp4\", \".csv\"))\n",
    "    raw_track_df = pd.read_csv(raw_csv_path, index_col=[0, 1], header=[0, 1]).drop(\"instance\", level=0, axis=1).drop(\"score\", level=1, axis=1)\n",
    "    track_arena_transforms = expanded_arena_transforms.loc[(regex_dict[\"mouse_id\"], regex_dict[\"phase\"])]\n",
    "\n",
    "    write_transform_verification_video(str(out_path), source_video_path, raw_track_df, arena_dict, track_arena_transforms, correction_func=default_correction, reader_kwargs=dict(start_frame=start_frame, end_frame=end_frame), show_progress=show_progress)"
   ]
  },
  {
   "cell_type": "code",
   "execution_count": 15,
   "metadata": {},
   "outputs": [
    {
     "data": {
      "text/plain": [
       "'20241115_mouse1_1_WithRat_remuxed.mp4'"
      ]
     },
     "execution_count": 15,
     "metadata": {},
     "output_type": "execute_result"
    }
   ],
   "source": [
    "video_names.iloc[2]"
   ]
  },
  {
   "cell_type": "code",
   "execution_count": 16,
   "metadata": {},
   "outputs": [
    {
     "name": "stderr",
     "output_type": "stream",
     "text": [
      "C:\\Users\\marti\\AppData\\Local\\Temp\\ipykernel_32104\\2811115036.py:31: PerformanceWarning: indexing past lexsort depth may impact performance.\n",
      "  track_arena_transforms = expanded_arena_transforms.loc[(regex_dict[\"mouse_id\"], regex_dict[\"phase\"])]\n",
      "100%|██████████| 124/124 [00:22<00:00,  5.62it/s]\n"
     ]
    }
   ],
   "source": [
    "_single_transform_verification_video(video_names.iloc[2], show_progress=True)"
   ]
  },
  {
   "cell_type": "code",
   "execution_count": 80,
   "metadata": {},
   "outputs": [
    {
     "name": "stderr",
     "output_type": "stream",
     "text": [
      "\n",
      "\n",
      "\n",
      "\n",
      "\n",
      "\n",
      "\n",
      "\n",
      "100%|██████████| 4/4 [00:00<00:00, 569.36it/s]\n"
     ]
    }
   ],
   "source": [
    "with Parallel(n_jobs=batch_size) as parallel:\n",
    "    parallel(delayed(_single_transform_verification_video)(video_name) for video_name in tqdm(video_names))"
   ]
  },
  {
   "cell_type": "markdown",
   "metadata": {},
   "source": [
    "# Processing"
   ]
  },
  {
   "cell_type": "code",
   "execution_count": null,
   "metadata": {},
   "outputs": [
    {
     "name": "stderr",
     "output_type": "stream",
     "text": [
      "C:\\Users\\marti\\AppData\\Local\\Temp\\ipykernel_35420\\791990254.py:3: FutureWarning: ChainedAssignmentError: behaviour will change in pandas 3.0!\n",
      "You are setting values through chained assignment. Currently this works in certain cases, but when using Copy-on-Write (which will become the default behaviour in pandas 3.0) this will never work to update the original DataFrame or Series, because the intermediate object on which we are setting values will behave as a copy.\n",
      "A typical example is when you are setting values in a column of a DataFrame, like:\n",
      "\n",
      "df[\"col\"][row_indexer] = value\n",
      "\n",
      "Use `df.loc[row_indexer, \"col\"] = values` instead, to perform the assignment in a single step and ensure this keeps updating the original `df`.\n",
      "\n",
      "See the caveats in the documentation: https://pandas.pydata.org/pandas-docs/stable/user_guide/indexing.html#returning-a-view-versus-a-copy\n",
      "\n",
      "  _index_df.iloc[14:14+14].loc[:, \"mouse_id\"] = \"1_10\"\n",
      "C:\\Users\\marti\\AppData\\Local\\Temp\\ipykernel_35420\\791990254.py:4: FutureWarning: ChainedAssignmentError: behaviour will change in pandas 3.0!\n",
      "You are setting values through chained assignment. Currently this works in certain cases, but when using Copy-on-Write (which will become the default behaviour in pandas 3.0) this will never work to update the original DataFrame or Series, because the intermediate object on which we are setting values will behave as a copy.\n",
      "A typical example is when you are setting values in a column of a DataFrame, like:\n",
      "\n",
      "df[\"col\"][row_indexer] = value\n",
      "\n",
      "Use `df.loc[row_indexer, \"col\"] = values` instead, to perform the assignment in a single step and ensure this keeps updating the original `df`.\n",
      "\n",
      "See the caveats in the documentation: https://pandas.pydata.org/pandas-docs/stable/user_guide/indexing.html#returning-a-view-versus-a-copy\n",
      "\n",
      "  _index_df.iloc[183:183+15].loc[:, \"mouse_id\"] = \"3_10\"\n"
     ]
    }
   ],
   "source": [
    "_index_df = expanded_arena_transforms.index.to_frame()\n",
    "_index_df[\"mouse_id\"] = _index_df[\"mouse_id\"].astype(str).str.replace(\".\", \"_\")\n",
    "_index_df.iloc[14:14+14].loc[:, \"mouse_id\"] = \"1_10\"\n",
    "_index_df.iloc[183:183+15].loc[:, \"mouse_id\"] = \"3_10\"\n",
    "expanded_arena_transforms.index = pd.MultiIndex.from_frame(_index_df)\n",
    "expanded_arena_transforms.to_csv(local_annotations_dir / \"expanded_arena_transforms.csv\")"
   ]
  },
  {
   "cell_type": "markdown",
   "metadata": {},
   "source": [
    "## Looming Stimulus"
   ]
  },
  {
   "cell_type": "markdown",
   "metadata": {},
   "source": [
    "### Cohort 1"
   ]
  },
  {
   "cell_type": "code",
   "execution_count": 150,
   "metadata": {},
   "outputs": [],
   "source": [
    "local_annotations_dir = annotations_dir / \"looming_stimulus\" / \"cohort2\"\n",
    "arena_dict_path = local_annotations_dir / \"arena_dict.json\"\n",
    "expanded_arena_transforms_path = local_annotations_dir / \"expanded_arena_transforms.csv\"\n",
    "\n",
    "local_tracking_dir = tracking_dir / \"looming_stimulus\" / \"cohort2\"\n",
    "\n",
    "local_track_out_dir = data_out_dir / \"processed_tracks\" / \"looming_stimulus\" / \"cohort2\"\n",
    "local_track_out_dir.mkdir(parents=True, exist_ok=True)"
   ]
  },
  {
   "cell_type": "code",
   "execution_count": 151,
   "metadata": {},
   "outputs": [],
   "source": [
    "batch_size = 8\n",
    "csv_regex = r\"(?P<date_string>\\d+)_mouse(?P<mouse_id>\\d+.\\d+)_loom(?P<loom_id>\\d+)\\.csv\"\n",
    "\n",
    "arena_dict = load_arena_from_json(arena_dict_path)\n",
    "expanded_arena_transforms = pd.read_csv(expanded_arena_transforms_path, index_col=[0, 1, 2])\n",
    "\n",
    "raw_csv_files = [str(x) for x in local_tracking_dir.glob(\"*.csv\")]\n",
    "\n",
    "def _single_track_transform(csv_file):\n",
    "    out_path = local_track_out_dir / pathlib.Path(csv_file).name.replace(\".csv\", \"_processed.csv\")\n",
    "    if out_path.exists():\n",
    "        return\n",
    "    \n",
    "    regex_dict = re.search(csv_regex, csv_file).groupdict()\n",
    "\n",
    "    raw_track_df = pd.read_csv(csv_file, index_col=[0, 1], header=[0, 1]).drop(\"instance\", level=0, axis=1).drop(\"score\", level=1, axis=1).loc[\"track_0\"]\n",
    "\n",
    "    track_arena_transforms = expanded_arena_transforms.loc[regex_dict[\"mouse_id\"]].loc[int(regex_dict[\"loom_id\"])]\n",
    "    transformed_track_df = expanded_looming_correction(raw_track_df, arena_dict, track_arena_transforms, y_correction=20)\n",
    "    transformed_track_df.to_csv(str(out_path))"
   ]
  },
  {
   "cell_type": "code",
   "execution_count": 142,
   "metadata": {},
   "outputs": [
    {
     "name": "stdout",
     "output_type": "stream",
     "text": [
      "                              0         1      2         3         4      5  \\\n",
      "selection_frame_index                                                         \n",
      "0                      1.617297 -0.772364  241.0  0.016154 -0.647631  723.0   \n",
      "\n",
      "                              6         7    8  \n",
      "selection_frame_index                           \n",
      "0                      0.000008 -0.001278  1.0  \n"
     ]
    }
   ],
   "source": [
    "_single_track_transform(raw_csv_files[0])"
   ]
  },
  {
   "cell_type": "code",
   "execution_count": 152,
   "metadata": {},
   "outputs": [
    {
     "name": "stderr",
     "output_type": "stream",
     "text": [
      "\n",
      "\n",
      "\u001b[A\u001b[A\n",
      "\n",
      "\u001b[A\u001b[A\n",
      "\n",
      "\u001b[A\u001b[A\n",
      "\n",
      "\u001b[A\u001b[A\n",
      "\n",
      "\u001b[A\u001b[A\n",
      "\n",
      "\u001b[A\u001b[A\n",
      "\n",
      "\u001b[A\u001b[A\n",
      "\n",
      "\u001b[A\u001b[A\n",
      "\n",
      "\u001b[A\u001b[A\n",
      "\n",
      "\u001b[A\u001b[A\n",
      "\n",
      "\u001b[A\u001b[A\n",
      "\n",
      "\u001b[A\u001b[A\n",
      "\n",
      "\u001b[A\u001b[A\n",
      "\n",
      "\u001b[A\u001b[A\n",
      "\n",
      "\u001b[A\u001b[A\n",
      "\n",
      "\u001b[A\u001b[A\n",
      "\n",
      "\u001b[A\u001b[A\n",
      "\n",
      "\u001b[A\u001b[A\n",
      "\n",
      "\u001b[A\u001b[A\n",
      "\n",
      "\u001b[A\u001b[A\n",
      "\n",
      "\u001b[A\u001b[A\n",
      "\n",
      "\u001b[A\u001b[A\n",
      "\n",
      "\u001b[A\u001b[A\n",
      "\n",
      "\u001b[A\u001b[A\n",
      "\n",
      "\u001b[A\u001b[A\n",
      "\n",
      "\u001b[A\u001b[A\n",
      "\n",
      "\u001b[A\u001b[A\n",
      "\n",
      "\u001b[A\u001b[A\n",
      "\n",
      "\u001b[A\u001b[A\n",
      "\n",
      "\u001b[A\u001b[A\n",
      "\n",
      "\u001b[A\u001b[A\n",
      "\n",
      "\u001b[A\u001b[A\n",
      "\n",
      "\u001b[A\u001b[A\n",
      "\n",
      "\u001b[A\u001b[A\n",
      "\n",
      "\u001b[A\u001b[A\n",
      "\n",
      "\u001b[A\u001b[A\n",
      "\n",
      "\u001b[A\u001b[A\n",
      "\n",
      "\u001b[A\u001b[A\n",
      "\n",
      "\u001b[A\u001b[A\n",
      "\n",
      "\u001b[A\u001b[A\n",
      "\n",
      "\u001b[A\u001b[A\n",
      "\n",
      "100%|██████████| 336/336 [00:32<00:00, 10.26it/s]\n"
     ]
    }
   ],
   "source": [
    "with Parallel(n_jobs=batch_size) as parallel:\n",
    "    parallel(delayed(_single_track_transform)(csv_file) for csv_file in tqdm(raw_csv_files))"
   ]
  },
  {
   "cell_type": "markdown",
   "metadata": {},
   "source": [
    "### Cohort 2"
   ]
  },
  {
   "cell_type": "code",
   "execution_count": 153,
   "metadata": {},
   "outputs": [],
   "source": [
    "local_annotations_dir = annotations_dir / \"looming_stimulus\" / \"cohort1\"\n",
    "arena_dict_path = local_annotations_dir / \"arena_dict.json\"\n",
    "expanded_arena_transforms_path = local_annotations_dir / \"expanded_arena_transforms.csv\"\n",
    "\n",
    "local_tracking_dir = tracking_dir / \"looming_stimulus\" / \"cohort1\"\n",
    "\n",
    "local_track_out_dir = data_out_dir / \"processed_tracks\" / \"looming_stimulus\" / \"cohort1\"\n",
    "local_track_out_dir.mkdir(parents=True, exist_ok=True)"
   ]
  },
  {
   "cell_type": "code",
   "execution_count": 154,
   "metadata": {},
   "outputs": [],
   "source": [
    "batch_size = 8\n",
    "csv_regex = r\"(?P<date_string>\\d+)_mouse(?P<mouse_id>\\d+.\\d+)_loom(?P<loom_id>\\d+)\\.csv\"\n",
    "\n",
    "arena_dict = load_arena_from_json(arena_dict_path)\n",
    "expanded_arena_transforms = pd.read_csv(expanded_arena_transforms_path, index_col=[0, 1, 2])\n",
    "\n",
    "raw_csv_files = [str(x) for x in local_tracking_dir.glob(\"*.csv\")]\n",
    "\n",
    "def _single_track_transform(csv_file):\n",
    "    out_path = local_track_out_dir / pathlib.Path(csv_file).name.replace(\".csv\", \"_processed.csv\")\n",
    "    if out_path.exists():\n",
    "        return\n",
    "    \n",
    "    regex_dict = re.search(csv_regex, csv_file).groupdict()\n",
    "\n",
    "    raw_track_df = pd.read_csv(csv_file, index_col=[0, 1], header=[0, 1]).drop(\"instance\", level=0, axis=1).drop(\"score\", level=1, axis=1).loc[\"track_0\"]\n",
    "\n",
    "    track_arena_transforms = expanded_arena_transforms.loc[regex_dict[\"mouse_id\"]].loc[int(regex_dict[\"loom_id\"])]\n",
    "    transformed_track_df = expanded_looming_correction(raw_track_df, arena_dict, track_arena_transforms, y_correction=20)\n",
    "    transformed_track_df.to_csv(str(out_path))"
   ]
  },
  {
   "cell_type": "code",
   "execution_count": 156,
   "metadata": {},
   "outputs": [
    {
     "name": "stderr",
     "output_type": "stream",
     "text": [
      "\n",
      "\n",
      "\u001b[A\u001b[A\n",
      "\n",
      "\u001b[A\u001b[A\n",
      "\n",
      "\u001b[A\u001b[A\n",
      "\n",
      "\u001b[A\u001b[A\n",
      "\n",
      "\u001b[A\u001b[A\n",
      "\n",
      "\u001b[A\u001b[A\n",
      "\n",
      "\u001b[A\u001b[A\n",
      "\n",
      "\u001b[A\u001b[A\n",
      "\n",
      "\u001b[A\u001b[A\n",
      "\n",
      "\u001b[A\u001b[A\n",
      "\n",
      "\u001b[A\u001b[A\n",
      "\n",
      "\u001b[A\u001b[A\n",
      "\n",
      "\u001b[A\u001b[A\n",
      "\n",
      "\u001b[A\u001b[A\n",
      "\n",
      "\u001b[A\u001b[A\n",
      "\n",
      "100%|██████████| 161/161 [00:12<00:00, 12.42it/s]\n"
     ]
    }
   ],
   "source": [
    "with Parallel(n_jobs=batch_size) as parallel:\n",
    "    parallel(delayed(_single_track_transform)(csv_file) for csv_file in tqdm(raw_csv_files))"
   ]
  },
  {
   "cell_type": "markdown",
   "metadata": {},
   "source": [
    "## Rat Odor"
   ]
  },
  {
   "cell_type": "markdown",
   "metadata": {},
   "source": [
    "### Cohort 1"
   ]
  },
  {
   "cell_type": "code",
   "execution_count": 157,
   "metadata": {},
   "outputs": [],
   "source": [
    "local_annotations_dir = annotations_dir / \"rat_odor\" / \"cohort1\"\n",
    "arena_dict_path = local_annotations_dir / \"arena_dict.json\"\n",
    "expanded_arena_transforms_path = local_annotations_dir / \"expanded_arena_transforms.csv\"\n",
    "\n",
    "local_tracking_dir = tracking_dir / \"rat_odor\" / \"cohort1\"\n",
    "\n",
    "local_track_out_dir = data_out_dir / \"processed_tracks\" / \"rat_odor\" / \"cohort1\"\n",
    "local_track_out_dir.mkdir(parents=True, exist_ok=True)"
   ]
  },
  {
   "cell_type": "code",
   "execution_count": 160,
   "metadata": {},
   "outputs": [],
   "source": [
    "batch_size = 8\n",
    "csv_regex = r\"(?P<date_string>\\d+)_mouse(?P<mouse_id>\\d+.\\d+)_(?P<phase>\\w+)\\.csv\"\n",
    "\n",
    "arena_dict = load_arena_from_json(arena_dict_path)\n",
    "expanded_arena_transforms = pd.read_csv(expanded_arena_transforms_path, index_col=[0, 1, 2])\n",
    "\n",
    "raw_csv_files = [str(x) for x in local_tracking_dir.glob(\"*.csv\")]\n",
    "\n",
    "def _single_track_transform(csv_file):\n",
    "    out_path = local_track_out_dir / pathlib.Path(csv_file).name.replace(\".csv\", \"_processed.csv\")\n",
    "    if out_path.exists():\n",
    "        return\n",
    "    \n",
    "    regex_dict = re.search(csv_regex, csv_file).groupdict()\n",
    "\n",
    "    raw_track_df = pd.read_csv(csv_file, index_col=[0, 1], header=[0, 1]).drop(\"instance\", level=0, axis=1).drop(\"score\", level=1, axis=1).loc[\"track_0\"]\n",
    "\n",
    "    track_arena_transforms = expanded_arena_transforms.loc[regex_dict[\"mouse_id\"]].loc[regex_dict[\"phase\"]]\n",
    "    transformed_track_df = default_correction(raw_track_df, arena_dict, track_arena_transforms)\n",
    "    transformed_track_df.to_csv(str(out_path))"
   ]
  },
  {
   "cell_type": "code",
   "execution_count": 161,
   "metadata": {},
   "outputs": [
    {
     "name": "stderr",
     "output_type": "stream",
     "text": [
      "\n",
      "\n",
      "\n",
      "\u001b[A\u001b[A\u001b[A\n",
      "\n",
      "\n",
      "\u001b[A\u001b[A\u001b[A\n",
      "\n",
      "\n",
      "100%|██████████| 24/24 [00:44<00:00,  1.85s/it]\n"
     ]
    }
   ],
   "source": [
    "with Parallel(n_jobs=batch_size) as parallel:\n",
    "    parallel(delayed(_single_track_transform)(csv_file) for csv_file in tqdm(raw_csv_files))"
   ]
  },
  {
   "cell_type": "markdown",
   "metadata": {},
   "source": [
    "### Cohort 2"
   ]
  },
  {
   "cell_type": "code",
   "execution_count": 162,
   "metadata": {},
   "outputs": [],
   "source": [
    "local_annotations_dir = annotations_dir / \"rat_odor\" / \"cohort2\"\n",
    "arena_dict_path = local_annotations_dir / \"arena_dict.json\"\n",
    "expanded_arena_transforms_path = local_annotations_dir / \"expanded_arena_transforms.csv\"\n",
    "\n",
    "local_tracking_dir = tracking_dir / \"rat_odor\" / \"cohort2\"\n",
    "\n",
    "local_track_out_dir = data_out_dir / \"processed_tracks\" / \"rat_odor\" / \"cohort2\"\n",
    "local_track_out_dir.mkdir(parents=True, exist_ok=True)"
   ]
  },
  {
   "cell_type": "code",
   "execution_count": 163,
   "metadata": {},
   "outputs": [],
   "source": [
    "batch_size = 8\n",
    "csv_regex = r\"(?P<date_string>\\d+)_mouse(?P<mouse_id>\\d+.\\d+)_(?P<phase>\\w+)\\.csv\"\n",
    "\n",
    "arena_dict = load_arena_from_json(arena_dict_path)\n",
    "expanded_arena_transforms = pd.read_csv(expanded_arena_transforms_path, index_col=[0, 1, 2])\n",
    "\n",
    "raw_csv_files = [str(x) for x in local_tracking_dir.glob(\"*.csv\")]\n",
    "\n",
    "def _single_track_transform(csv_file):\n",
    "    out_path = local_track_out_dir / pathlib.Path(csv_file).name.replace(\".csv\", \"_processed.csv\")\n",
    "    if out_path.exists():\n",
    "        return\n",
    "    \n",
    "    regex_dict = re.search(csv_regex, csv_file).groupdict()\n",
    "\n",
    "    raw_track_df = pd.read_csv(csv_file, index_col=[0, 1], header=[0, 1]).drop(\"instance\", level=0, axis=1).drop(\"score\", level=1, axis=1).loc[\"track_0\"]\n",
    "\n",
    "    track_arena_transforms = expanded_arena_transforms.loc[regex_dict[\"mouse_id\"]].loc[regex_dict[\"phase\"]]\n",
    "    transformed_track_df = default_correction(raw_track_df, arena_dict, track_arena_transforms)\n",
    "    transformed_track_df.to_csv(str(out_path))"
   ]
  },
  {
   "cell_type": "code",
   "execution_count": 164,
   "metadata": {},
   "outputs": [
    {
     "name": "stderr",
     "output_type": "stream",
     "text": [
      "\n",
      "\n",
      "\n",
      "\u001b[A\u001b[A\u001b[A\n",
      "\n",
      "\n",
      "\u001b[A\u001b[A\u001b[A\n",
      "\n",
      "\n",
      "\u001b[A\u001b[A\u001b[A\n",
      "\n",
      "\n",
      "\u001b[A\u001b[A\u001b[A\n",
      "\n",
      "\n",
      "\u001b[A\u001b[A\u001b[A\n",
      "\n",
      "\n",
      "100%|██████████| 48/48 [00:33<00:00,  1.44it/s]\n"
     ]
    }
   ],
   "source": [
    "with Parallel(n_jobs=batch_size) as parallel:\n",
    "    parallel(delayed(_single_track_transform)(csv_file) for csv_file in tqdm(raw_csv_files))"
   ]
  },
  {
   "cell_type": "markdown",
   "metadata": {},
   "source": [
    "## Rat Presence"
   ]
  },
  {
   "cell_type": "markdown",
   "metadata": {},
   "source": [
    "### Cohort 1"
   ]
  },
  {
   "cell_type": "code",
   "execution_count": 165,
   "metadata": {},
   "outputs": [],
   "source": [
    "local_annotations_dir = annotations_dir / \"rat_presence\" / \"cohort1\"\n",
    "arena_dict_path = local_annotations_dir / \"arena_dict.json\"\n",
    "expanded_arena_transforms_path = local_annotations_dir / \"expanded_arena_transforms.csv\"\n",
    "\n",
    "local_tracking_dir = tracking_dir / \"rat_presence\" / \"cohort1\"\n",
    "\n",
    "local_track_out_dir = data_out_dir / \"processed_tracks\" / \"rat_presence\" / \"cohort1\"\n",
    "local_track_out_dir.mkdir(parents=True, exist_ok=True)"
   ]
  },
  {
   "cell_type": "code",
   "execution_count": 166,
   "metadata": {},
   "outputs": [],
   "source": [
    "batch_size = 8\n",
    "csv_regex = r\"(?P<date_string>\\d+)_mouse(?P<mouse_id>\\d+.\\d+)_(?P<phase>\\w+)\\.csv\"\n",
    "\n",
    "arena_dict = load_arena_from_json(arena_dict_path)\n",
    "expanded_arena_transforms = pd.read_csv(expanded_arena_transforms_path, index_col=[0, 1, 2])\n",
    "\n",
    "raw_csv_files = [str(x) for x in local_tracking_dir.glob(\"*.csv\")]\n",
    "\n",
    "def _single_track_transform(csv_file):\n",
    "    out_path = local_track_out_dir / pathlib.Path(csv_file).name.replace(\".csv\", \"_processed.csv\")\n",
    "    if out_path.exists():\n",
    "        return\n",
    "    \n",
    "    regex_dict = re.search(csv_regex, csv_file).groupdict()\n",
    "\n",
    "    raw_track_df = pd.read_csv(csv_file, index_col=[0, 1], header=[0, 1]).drop(\"instance\", level=0, axis=1).drop(\"score\", level=1, axis=1).loc[\"track_0\"]\n",
    "\n",
    "    track_arena_transforms = expanded_arena_transforms.loc[regex_dict[\"mouse_id\"]].loc[regex_dict[\"phase\"]]\n",
    "    transformed_track_df = default_correction(raw_track_df, arena_dict, track_arena_transforms)\n",
    "    transformed_track_df.to_csv(str(out_path))"
   ]
  },
  {
   "cell_type": "code",
   "execution_count": 167,
   "metadata": {},
   "outputs": [
    {
     "name": "stderr",
     "output_type": "stream",
     "text": [
      "\n",
      "\n",
      "\n",
      "\u001b[A\u001b[A\u001b[A\n",
      "\n",
      "\n",
      "\u001b[A\u001b[A\u001b[A\n",
      "\n",
      "\n",
      "100%|██████████| 24/24 [00:18<00:00,  1.29it/s]\n"
     ]
    }
   ],
   "source": [
    "with Parallel(n_jobs=batch_size) as parallel:\n",
    "    parallel(delayed(_single_track_transform)(csv_file) for csv_file in tqdm(raw_csv_files))"
   ]
  },
  {
   "cell_type": "markdown",
   "metadata": {},
   "source": [
    "### Cohort 2"
   ]
  },
  {
   "cell_type": "code",
   "execution_count": 168,
   "metadata": {},
   "outputs": [],
   "source": [
    "local_annotations_dir = annotations_dir / \"rat_presence\" / \"cohort2\"\n",
    "arena_dict_path = local_annotations_dir / \"arena_dict.json\"\n",
    "expanded_arena_transforms_path = local_annotations_dir / \"expanded_arena_transforms.csv\"\n",
    "\n",
    "local_tracking_dir = tracking_dir / \"rat_presence\" / \"cohort2\"\n",
    "\n",
    "local_track_out_dir = data_out_dir / \"processed_tracks\" / \"rat_presence\" / \"cohort2\"\n",
    "local_track_out_dir.mkdir(parents=True, exist_ok=True)"
   ]
  },
  {
   "cell_type": "code",
   "execution_count": 169,
   "metadata": {},
   "outputs": [],
   "source": [
    "batch_size = 8\n",
    "csv_regex = r\"(?P<date_string>\\d+)_mouse(?P<mouse_id>\\d+.\\d+)_(?P<phase>\\w+)\\.csv\"\n",
    "\n",
    "arena_dict = load_arena_from_json(arena_dict_path)\n",
    "expanded_arena_transforms = pd.read_csv(expanded_arena_transforms_path, index_col=[0, 1, 2])\n",
    "\n",
    "raw_csv_files = [str(x) for x in local_tracking_dir.glob(\"*.csv\")]\n",
    "\n",
    "def _single_track_transform(csv_file):\n",
    "    out_path = local_track_out_dir / pathlib.Path(csv_file).name.replace(\".csv\", \"_processed.csv\")\n",
    "    if out_path.exists():\n",
    "        return\n",
    "    \n",
    "    regex_dict = re.search(csv_regex, csv_file).groupdict()\n",
    "\n",
    "    raw_track_df = pd.read_csv(csv_file, index_col=[0, 1], header=[0, 1]).drop(\"instance\", level=0, axis=1).drop(\"score\", level=1, axis=1).loc[\"track_0\"]\n",
    "\n",
    "    track_arena_transforms = expanded_arena_transforms.loc[regex_dict[\"mouse_id\"]].loc[regex_dict[\"phase\"]]\n",
    "    transformed_track_df = default_correction(raw_track_df, arena_dict, track_arena_transforms)\n",
    "    transformed_track_df.to_csv(str(out_path))"
   ]
  },
  {
   "cell_type": "code",
   "execution_count": null,
   "metadata": {},
   "outputs": [
    {
     "name": "stderr",
     "output_type": "stream",
     "text": [
      "\n",
      "\n",
      "\n",
      "\u001b[A\u001b[A\u001b[A\n",
      "\n",
      "\n",
      "\u001b[A\u001b[A\u001b[A\n",
      "\n",
      "\n",
      "\u001b[A\u001b[A\u001b[A\n",
      "\n",
      "\n",
      "\u001b[A\u001b[A\u001b[A\n",
      "\n",
      "\n",
      "\u001b[A\u001b[A\u001b[A\n",
      "\n",
      "\n",
      "100%|██████████| 48/48 [00:16<00:00,  2.85it/s]\n"
     ]
    },
    {
     "ename": "",
     "evalue": "",
     "output_type": "error",
     "traceback": [
      "\u001b[1;31mThe Kernel crashed while executing code in the current cell or a previous cell. \n",
      "\u001b[1;31mPlease review the code in the cell(s) to identify a possible cause of the failure. \n",
      "\u001b[1;31mClick <a href='https://aka.ms/vscodeJupyterKernelCrash'>here</a> for more info. \n",
      "\u001b[1;31mView Jupyter <a href='command:jupyter.viewOutput'>log</a> for further details."
     ]
    }
   ],
   "source": [
    "with Parallel(n_jobs=batch_size) as parallel:\n",
    "    parallel(delayed(_single_track_transform)(csv_file) for csv_file in tqdm(raw_csv_files))"
   ]
  }
 ],
 "metadata": {
  "kernelspec": {
   "display_name": "manuscript2021",
   "language": "python",
   "name": "python3"
  },
  "language_info": {
   "codemirror_mode": {
    "name": "ipython",
    "version": 3
   },
   "file_extension": ".py",
   "mimetype": "text/x-python",
   "name": "python",
   "nbconvert_exporter": "python",
   "pygments_lexer": "ipython3",
   "version": "3.13.3"
  }
 },
 "nbformat": 4,
 "nbformat_minor": 2
}
